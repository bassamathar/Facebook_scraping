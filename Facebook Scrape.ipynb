{
 "cells": [
  {
   "cell_type": "code",
   "execution_count": 1,
   "id": "e223a99d-f798-40d5-a603-27ec684ce135",
   "metadata": {},
   "outputs": [],
   "source": [
    "from selenium import webdriver\n",
    "from selenium.webdriver.chrome.service import Service\n",
    "from selenium.webdriver.common.by import By\n",
    "from selenium.webdriver.support import expected_conditions as EC\n",
    "from selenium.webdriver.support.wait import WebDriverWait\n",
    "import time"
   ]
  },
  {
   "cell_type": "code",
   "execution_count": 2,
   "id": "bf92aea7-1592-45ff-8db5-248c128288bc",
   "metadata": {},
   "outputs": [],
   "source": [
    "s = Service('C:/Users/Athar/Downloads/chromedriver-win64 (1)/chromedriver-win64/chromedriver.exe')\n",
    "driver = webdriver.Chrome(service=s)\n",
    "\n",
    "base_url = 'https://www.facebook.com/bathar2/'\n",
    "driver.get(base_url)"
   ]
  },
  {
   "cell_type": "code",
   "execution_count": 3,
   "id": "381a481c-9604-44d1-a470-f6e1b062e4f1",
   "metadata": {},
   "outputs": [
    {
     "name": "stdout",
     "output_type": "stream",
     "text": [
      "['https://www.facebook.com/photo/?fbid=1955316968065641&set=a.1375271419403535', 'https://www.facebook.com/photo.php?fbid=1931859233711933&set=t.100007620691768&type=3', 'https://www.facebook.com/photo.php?fbid=987165428100130&set=t.100007620691768&type=3', 'https://www.facebook.com/photo.php?fbid=374301426368430&set=t.100007620691768&type=3', 'https://www.facebook.com/photo.php?fbid=374301189701787&set=t.100007620691768&type=3', 'https://www.facebook.com/photo.php?fbid=594339780957824&set=t.100007620691768&type=3', 'https://www.facebook.com/photo.php?fbid=374296713035568&set=t.100007620691768&type=3', 'https://www.facebook.com/photo.php?fbid=1955315828065755&set=t.100007620691768&type=3', 'https://www.facebook.com/photo.php?fbid=1955315788065759&set=t.100007620691768&type=3']\n",
      "[]\n",
      "['https://www.facebook.com/photo/?fbid=1955316968065641&set=a.1375271419403535']\n",
      "[]\n"
     ]
    }
   ],
   "source": [
    "paths = ['photos_of', 'photos_all']\n",
    "images = []\n",
    "for path in paths:\n",
    "    driver.get(base_url + path + '/')\n",
    "    time.sleep(5)  \n",
    "\n",
    "    n_scrolls = 5\n",
    "    for _ in range(n_scrolls):\n",
    "        driver.execute_script('window.scrollTo(0, document.body.scrollHeight);')\n",
    "        time.sleep(5)  # Wait for the page to load after scroll\n",
    "\n",
    "    # Extract anchor elements\n",
    "    anchors = driver.find_elements(By.TAG_NAME, 'a')\n",
    "    hrefs = [a.get_attribute('href') for a in anchors if a.get_attribute('href')]\n",
    "\n",
    "    #print(hrefs)  # Print the collected hrefs\n",
    "\n",
    "    hrefs = [href for href in hrefs if href.startswith(\"https://www.facebook.com/photo\")]\n",
    "    print(hrefs)\n",
    "\n",
    "    for a in images:\n",
    "        driver.get(a)\n",
    "        time.sleep(5)\n",
    "        img = driver.find_elements(By.TAG_NAME, 'img')\n",
    "        images.append(img.get_attribute('src'))\n",
    "        for k in image:\n",
    "            print(k.get_attribute('src'))\n",
    "    print(images)"
   ]
  },
  {
   "cell_type": "code",
   "execution_count": 5,
   "id": "ea15357b-bb8e-4842-81c2-b2965413a85e",
   "metadata": {},
   "outputs": [],
   "source": [
    "import os\n",
    "\n",
    "path = os.getcwd()\n",
    "path = os.path.join(path, \"FB1_SCRAPED\")\n",
    "\n",
    "#create the directory\n",
    "os.mkdir(path)"
   ]
  },
  {
   "cell_type": "code",
   "execution_count": 6,
   "id": "742d3f1e-4571-4df4-8802-88f37372da3d",
   "metadata": {},
   "outputs": [
    {
     "data": {
      "text/plain": [
       "'C:\\\\Users\\\\Athar\\\\Documents\\\\Untitled Folder\\\\FB1_SCRAPED'"
      ]
     },
     "execution_count": 6,
     "metadata": {},
     "output_type": "execute_result"
    }
   ],
   "source": [
    "path"
   ]
  },
  {
   "cell_type": "code",
   "execution_count": 7,
   "id": "b5367a5d-79af-4aae-811f-4264b8099c05",
   "metadata": {},
   "outputs": [],
   "source": [
    "import wget\n",
    "\n",
    "#download images\n",
    "counter = 0\n",
    "for image in images:\n",
    "    save_as = os.path.join(path, str(counter) + '.jpg')\n",
    "    wget.download(image, save_as)\n",
    "    counter += 1"
   ]
  },
  {
   "cell_type": "code",
   "execution_count": null,
   "id": "c38cf77b-c35a-437a-8714-4c94a2160e1b",
   "metadata": {},
   "outputs": [],
   "source": []
  }
 ],
 "metadata": {
  "kernelspec": {
   "display_name": "Python 3 (ipykernel)",
   "language": "python",
   "name": "python3"
  },
  "language_info": {
   "codemirror_mode": {
    "name": "ipython",
    "version": 3
   },
   "file_extension": ".py",
   "mimetype": "text/x-python",
   "name": "python",
   "nbconvert_exporter": "python",
   "pygments_lexer": "ipython3",
   "version": "3.12.3"
  }
 },
 "nbformat": 4,
 "nbformat_minor": 5
}
